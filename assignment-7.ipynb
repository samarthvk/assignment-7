{
 "cells": [
  {
   "cell_type": "code",
   "execution_count": null,
   "id": "8f6cce33",
   "metadata": {},
   "outputs": [],
   "source": [
    "1. What is the name of the feature responsible for generating Regex objects?\n",
    "ans:\n",
    "    re.compile() is the feature responsible for generation of Regex objects."
   ]
  },
  {
   "cell_type": "code",
   "execution_count": null,
   "id": "6bb74e2b",
   "metadata": {},
   "outputs": [],
   "source": [
    "2. Why do raw strings often appear in Regex objects?\n",
    "ans:\n",
    "    Raw strings are used because that the backslashes do not have to be escaped."
   ]
  },
  {
   "cell_type": "code",
   "execution_count": null,
   "id": "7806bd32",
   "metadata": {},
   "outputs": [],
   "source": [
    "3. What is the return value of the search() method?\n",
    "ans:\n",
    "    The search() method returns Match objects.\n",
    "    else it returns None."
   ]
  },
  {
   "cell_type": "code",
   "execution_count": null,
   "id": "a0297a37",
   "metadata": {},
   "outputs": [],
   "source": [
    "4. From a Match item, how do you get the actual strings that match the pattern?\n",
    "ans:\n",
    "    "
   ]
  },
  {
   "cell_type": "code",
   "execution_count": 3,
   "id": "31e76295",
   "metadata": {},
   "outputs": [
    {
     "name": "stdout",
     "output_type": "stream",
     "text": [
      "matching words: sam vk\n"
     ]
    }
   ],
   "source": [
    "import re\n",
    "match = re.search('sam vk','myself sam vk from vijaypura')\n",
    "print('matching words:',match.group())"
   ]
  },
  {
   "cell_type": "code",
   "execution_count": null,
   "id": "7a641dd4",
   "metadata": {},
   "outputs": [],
   "source": [
    "5. In the regex which created from the r'(\\d\\d\\d)-(\\d\\d\\d-\\d\\d\\d\\d)', what does group zero cover? Group 2? Group 1?\n",
    "ans:\n",
    "    group 0 covers whole part\n",
    "    group 1 covers first part\n",
    "    group 2 covers second part"
   ]
  },
  {
   "cell_type": "code",
   "execution_count": 25,
   "id": "d2d545cf",
   "metadata": {},
   "outputs": [
    {
     "name": "stdout",
     "output_type": "stream",
     "text": [
      "111-222-3333\n",
      "111-222-3333\n",
      "111\n"
     ]
    }
   ],
   "source": [
    "import re\n",
    "a = re.compile(r'((\\d\\d\\d)-(\\d\\d\\d-\\d\\d\\d\\d))')\n",
    "b = a.search('My number is (111-222-3333)')\n",
    "\n",
    "print(b.group(0)) # it returns fully matched string \n",
    "print(b.group(1)) \n",
    "print(b.group(2)) "
   ]
  },
  {
   "cell_type": "code",
   "execution_count": 27,
   "id": "e2bf15c7",
   "metadata": {},
   "outputs": [],
   "source": [
    "6. In standard expression syntax, parentheses and intervals have distinct meanings. How can you tell a regex that you want it to fit real parentheses and periods?\n",
    "ans:\n",
    "    Periods and parentheses can be escaped with a backslash \n",
    "    like\n",
    "    -> \\.\n",
    "    -> \\(\n",
    "    -> \\)"
   ]
  },
  {
   "cell_type": "code",
   "execution_count": null,
   "id": "deb227e9",
   "metadata": {},
   "outputs": [],
   "source": [
    "7. The findall() method returns a string list or a list of string tuples. What causes it to return one of the two options?\n",
    "ans:\n",
    "    when regex has no groups, list of strings is returned.\n",
    "    when regex has groups, list of tuples of strings is returned."
   ]
  },
  {
   "cell_type": "code",
   "execution_count": null,
   "id": "4bc74a4d",
   "metadata": {},
   "outputs": [],
   "source": [
    "8. In standard expressions, what does the | character mean?\n",
    "ans:\n",
    "    The | character means \"or\"  used when comparing two things."
   ]
  },
  {
   "cell_type": "code",
   "execution_count": null,
   "id": "94a891bf",
   "metadata": {},
   "outputs": [],
   "source": [
    "9. In regular expressions, what does the character ? stand for?\n",
    "ans:\n",
    "    The ? character means 'match zero or one of the preceding group'"
   ]
  },
  {
   "cell_type": "code",
   "execution_count": null,
   "id": "22bb182d",
   "metadata": {},
   "outputs": [],
   "source": [
    "10.In regular expressions, what is the difference between the + and * characters?\n",
    "ans:\n",
    "    The + characters matches one or more.\n",
    "    The * characters matches zero or more."
   ]
  },
  {
   "cell_type": "code",
   "execution_count": null,
   "id": "17eb31ea",
   "metadata": {},
   "outputs": [],
   "source": [
    "11. What is the difference between {4} and {4,5} in regular expression?\n",
    "ans:\n",
    "    The {4} matches exactly four instances of the preceding group. The {4,5} matches between four and five instances."
   ]
  },
  {
   "cell_type": "code",
   "execution_count": null,
   "id": "e2c51c3a",
   "metadata": {},
   "outputs": [],
   "source": [
    "12. What do you mean by the \\d, \\w, and \\s shorthand character classes signify in regular expressions?\n",
    "ans:\n",
    "    \\d match a single digit,\n",
    "    \\w match a word,\n",
    "    \\s match a space character."
   ]
  },
  {
   "cell_type": "code",
   "execution_count": null,
   "id": "dfab3be3",
   "metadata": {},
   "outputs": [],
   "source": [
    "13. What do means by \\D, \\W, and \\S shorthand character classes signify in regular expressions?\n",
    "ans:\n",
    "     \\d match not a single single digit,\n",
    "    \\w match not a  word,\n",
    "    \\s match not a space character.\n",
    "    "
   ]
  },
  {
   "cell_type": "code",
   "execution_count": null,
   "id": "ba81b14b",
   "metadata": {},
   "outputs": [],
   "source": [
    "14. What is the difference between .*? and .*?\n",
    "ans:\n",
    "    .* is a Greedy mode, which returns the longest string that meets the condition,\n",
    "    .*? is a non greedy mode which returns the shortest string that meets the condition."
   ]
  },
  {
   "cell_type": "code",
   "execution_count": null,
   "id": "d6d4fcd6",
   "metadata": {},
   "outputs": [],
   "source": [
    "15. What is the syntax for matching both numbers and lowercase letters with a character class?\n",
    "ans:\n",
    "     The Synatax is \n",
    "        [a-z0-9] or [0-9a-z]"
   ]
  },
  {
   "cell_type": "code",
   "execution_count": null,
   "id": "8f530988",
   "metadata": {},
   "outputs": [],
   "source": [
    "16. What is the procedure for making a normal expression in regax case insensitive?\n",
    "ams:\n",
    "    We can pass flag = re.IGNORECASE to make a noraml expression case insensitive."
   ]
  },
  {
   "cell_type": "code",
   "execution_count": null,
   "id": "5ac78dc1",
   "metadata": {},
   "outputs": [],
   "source": [
    "17. What does the . character normally match? What does it match if re.DOTALL is passed as 2nd argument in re.compile()?\n",
    "ans:\n",
    "    dot character matches everything in input except newline character\n",
    "    By passing re. DOTALL as the second argument to re. compile() ,\n",
    "    we can make the dot character match all characters including the newline character."
   ]
  },
  {
   "cell_type": "code",
   "execution_count": null,
   "id": "af8226f7",
   "metadata": {},
   "outputs": [],
   "source": [
    "18. If numReg = re.compile(r'\\d+'), what will numRegex.sub('X', '11 drummers, 10 pipers, five rings, 4 hen') return?\n",
    "ans:\n",
    "    "
   ]
  },
  {
   "cell_type": "code",
   "execution_count": 31,
   "id": "02ac2353",
   "metadata": {},
   "outputs": [
    {
     "data": {
      "text/plain": [
       "'X drummers, X pipers, five rings, X hen'"
      ]
     },
     "execution_count": 31,
     "metadata": {},
     "output_type": "execute_result"
    }
   ],
   "source": [
    "import re\n",
    "numRegex = re.compile(r'\\d+')#here i have changed numReg to numRegex so it runs without error.\n",
    "numRegex.sub('X', '11 drummers, 10 pipers, five rings, 4 hen')#"
   ]
  },
  {
   "cell_type": "code",
   "execution_count": null,
   "id": "9187e5a3",
   "metadata": {},
   "outputs": [],
   "source": [
    "19. What does passing re.VERBOSE as the 2nd argument to re.compile() allow to do?\n",
    "ans:\n",
    "     re.VERBOSE will allow to add whitespace and comments to string passed to re.compile()."
   ]
  },
  {
   "cell_type": "code",
   "execution_count": null,
   "id": "f6ba753b",
   "metadata": {},
   "outputs": [],
   "source": [
    "20. How would you write a regex that match a number with comma for every three digits? It must match the given following:\n",
    "'42'\n",
    "'1,234'\n",
    "'6,368,745'\n",
    "but not the following:\n",
    "'12,34,567' (which has only two digits between the commas)\n",
    "'1234' (which lacks commas)\n",
    "ans:\n",
    "    re.compile(r'^\\d{1,3}(,\\d{3})*$') will create this regex."
   ]
  },
  {
   "cell_type": "code",
   "execution_count": null,
   "id": "b27bd049",
   "metadata": {},
   "outputs": [],
   "source": [
    "21. How would you write a regex that matches the full name of someone whose last name is Watanabe? You can assume that the first name that comes before it will always be one word that begins with a capital letter. The regex must match the following:\n",
    "'Haruto Watanabe'\n",
    "'Alice Watanabe'\n",
    "'RoboCop Watanabe'\n",
    "but not the following:\n",
    "'haruto Watanabe' (where the first name is not capitalized)\n",
    "'Mr. Watanabe' (where the preceding word has a nonletter character)\n",
    "'Watanabe' (which has no first name)\n",
    "'Haruto watanabe' (where Watanabe is not capitalized)\n",
    "ans:\n",
    "    re.compile(r'[A-Z][a-z]*\\sWatanabe')"
   ]
  },
  {
   "cell_type": "code",
   "execution_count": 32,
   "id": "c699dfc6",
   "metadata": {},
   "outputs": [
    {
     "name": "stdout",
     "output_type": "stream",
     "text": [
      "Output:  Haruto Watanabe -> <re.Match object; span=(0, 15), match='Haruto Watanabe'>\n",
      "Output:  Alice Watanabe -> <re.Match object; span=(0, 14), match='Alice Watanabe'>\n",
      "Output:  RoboCop Watanabe -> <re.Match object; span=(4, 16), match='Cop Watanabe'>\n",
      "Output:  haruto Watanabe -> None\n",
      "Output:  Mr. Watanabe -> None\n",
      "Output:  Watanabe -> None\n",
      "Output:  Haruto watanabe -> None\n"
     ]
    }
   ],
   "source": [
    "import re\n",
    "pattern = r'[A-Z]{1}[a-z]*\\sWatanabe'\n",
    "namex = re.compile(pattern)\n",
    "for name in ['Haruto Watanabe','Alice Watanabe','RoboCop Watanabe','haruto Watanabe','Mr. Watanabe','Watanabe','Haruto watanabe']:\n",
    "    print('Output: ',name,'->',namex.search(name))"
   ]
  },
  {
   "cell_type": "code",
   "execution_count": null,
   "id": "fb97a130",
   "metadata": {},
   "outputs": [],
   "source": [
    "22. How would you write a regex that matches a sentence where the first word is either Alice, Bob, or Carol; the second word is either eats, pets, or throws; the third word is apples, cats, or baseballs; and the sentence ends with a period? This regex should be case-insensitive. It must match the following:\n",
    "'Alice eats apples.'\n",
    "'Bob pets cats.'\n",
    "'Carol throws baseballs.'\n",
    "'Alice throws Apples.'\n",
    "'BOB EATS CATS.'\n",
    "but not the following:\n",
    "'RoboCop eats apples.'\n",
    "'ALICE THROWS FOOTBALLS.'\n",
    "'Carol eats 7 cats.'\n",
    "ans:\n",
    "    re.compile(r'(Alice|Bob|Carol)\\s(eats|pets|throws)\\s(apples|cats|baseballs)\\.', re.IGNORECASE)"
   ]
  },
  {
   "cell_type": "code",
   "execution_count": 39,
   "id": "9775d538",
   "metadata": {},
   "outputs": [
    {
     "name": "stdout",
     "output_type": "stream",
     "text": [
      "Output:  Alice eats apples. -> <re.Match object; span=(0, 18), match='Alice eats apples.'>\n",
      "Output:  Bob pets cats. -> <re.Match object; span=(0, 14), match='Bob pets cats.'>\n",
      "Output:  Carol throws baseballs. -> <re.Match object; span=(0, 23), match='Carol throws baseballs.'>\n",
      "Output:  Alice throws Apples. -> <re.Match object; span=(0, 20), match='Alice throws Apples.'>\n",
      "Output:  BOB EATS CATS. -> <re.Match object; span=(0, 14), match='BOB EATS CATS.'>\n",
      "Output:  RoboCop eats apples. -> None\n",
      "Output:  ALICE THROWS FOOTBALLS. -> None\n",
      "Output:  Carol eats 7 cats. -> None\n"
     ]
    }
   ],
   "source": [
    "import re\n",
    "pattern = re.compile(r'(Alice|Bob|Carol)\\s(eats|pets|throws)\\s(apples|cats|baseballs)\\.',re.IGNORECASE)\n",
    "for ele in ['Alice eats apples.','Bob pets cats.','Carol throws baseballs.','Alice throws Apples.','BOB EATS CATS.','RoboCop eats apples.'\n",
    ",'ALICE THROWS FOOTBALLS.','Carol eats 7 cats.']:\n",
    "    print('Output: ',ele,'->',casex.search(ele))"
   ]
  },
  {
   "cell_type": "code",
   "execution_count": null,
   "id": "8b11f29e",
   "metadata": {},
   "outputs": [],
   "source": []
  },
  {
   "cell_type": "code",
   "execution_count": null,
   "id": "8a048bc7",
   "metadata": {},
   "outputs": [],
   "source": []
  }
 ],
 "metadata": {
  "kernelspec": {
   "display_name": "Python 3 (ipykernel)",
   "language": "python",
   "name": "python3"
  },
  "language_info": {
   "codemirror_mode": {
    "name": "ipython",
    "version": 3
   },
   "file_extension": ".py",
   "mimetype": "text/x-python",
   "name": "python",
   "nbconvert_exporter": "python",
   "pygments_lexer": "ipython3",
   "version": "3.9.7"
  }
 },
 "nbformat": 4,
 "nbformat_minor": 5
}
